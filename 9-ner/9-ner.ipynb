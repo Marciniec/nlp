{
 "cells": [
  {
   "cell_type": "markdown",
   "metadata": {},
   "source": [
    "# Named entity recognition\n"
   ]
  },
  {
   "cell_type": "markdown",
   "metadata": {},
   "source": [
    "## Solution of https://github.com/apohllo/nlp/blob/master/9-ner.md"
   ]
  },
  {
   "cell_type": "markdown",
   "metadata": {},
   "source": [
    "Randomly select 100 bills.\n"
   ]
  },
  {
   "cell_type": "code",
   "execution_count": 93,
   "metadata": {},
   "outputs": [],
   "source": [
    "cp `ls | shuf -n 100` random"
   ]
  },
  {
   "cell_type": "markdown",
   "metadata": {},
   "source": [
    "Recognize the named entities in the documents using the n82 model.\n"
   ]
  },
  {
   "cell_type": "code",
   "execution_count": 95,
   "metadata": {},
   "outputs": [
    {
     "name": "stdout",
     "output_type": "stream",
     "text": [
      "Processing: random/1998_593.txt\n",
      "Processing: random/2003_151.txt\n",
      "Processing: random/1997_674.txt\n",
      "Processing: random/1997_751.txt\n",
      "Processing: random/2004_577.txt\n",
      "Processing: random/2003_1610.txt\n",
      "Processing: random/1997_781.txt\n",
      "Processing: random/2000_1100.txt\n",
      "Processing: random/2004_146.txt\n",
      "Processing: random/2004_630.txt\n",
      "Processing: random/1997_676.txt\n",
      "Processing: random/1995_480.txt\n",
      "Processing: random/2000_1322.txt\n",
      "Processing: random/1998_1115.txt\n",
      "Processing: random/2001_246.txt\n",
      "Processing: random/2000_1324.txt\n",
      "Processing: random/1996_42.txt\n",
      "Processing: random/2000_839.txt\n",
      "Processing: random/1997_739.txt\n",
      "Processing: random/2004_1845.txt\n",
      "Processing: random/2004_2249.txt\n",
      "Processing: random/2003_1068.txt\n",
      "Processing: random/1994_591.txt\n",
      "Processing: random/1997_506.txt\n",
      "Processing: random/2004_627.txt\n",
      "Processing: random/1999_802.txt\n",
      "Processing: random/2004_2772.txt\n",
      "Processing: random/1997_470.txt\n",
      "Processing: random/2000_546.txt\n",
      "Processing: random/1997_272.txt\n",
      "Processing: random/2000_179.txt\n",
      "Processing: random/2004_148.txt\n",
      "Processing: random/1996_41.txt\n",
      "Processing: random/2003_718.txt\n",
      "Processing: random/1997_882.txt\n",
      "Processing: random/1996_459.txt\n",
      "Processing: random/2001_908.txt\n",
      "Processing: random/1997_97.txt\n",
      "Processing: random/2004_1807.txt\n",
      "Processing: random/1997_630.txt\n",
      "Processing: random/2004_1962.txt\n",
      "Processing: random/2001_84.txt\n",
      "Processing: random/2001_1229.txt\n",
      "Processing: random/1997_741.txt\n",
      "Processing: random/1995_152.txt\n",
      "Processing: random/2004_2619.txt\n",
      "Processing: random/2002_1204.txt\n",
      "Processing: random/2000_1251.txt\n",
      "Processing: random/1997_736.txt\n",
      "Processing: random/2003_1693.txt\n",
      "Processing: random/1995_60.txt\n",
      "Processing: random/2004_1644.txt\n",
      "Processing: random/1997_592.txt\n",
      "Processing: random/1998_931.txt\n",
      "Processing: random/1996_176.txt\n",
      "Processing: random/2001_786.txt\n",
      "Processing: random/2004_1925.txt\n",
      "Processing: random/2001_761.txt\n",
      "Processing: random/2003_1850.txt\n",
      "Processing: random/2001_1371.txt\n",
      "Processing: random/2001_1452.txt\n",
      "Processing: random/2000_549.txt\n",
      "Processing: random/1997_491.txt\n",
      "Processing: random/2000_383.txt\n",
      "Processing: random/2001_1066.txt\n",
      "Processing: random/2004_1533.txt\n",
      "Processing: random/2001_1407.txt\n",
      "Processing: random/1996_687.txt\n",
      "Processing: random/2000_239.txt\n",
      "Processing: random/1999_728.txt\n",
      "Processing: random/2001_1118.txt\n",
      "Processing: random/2001_1403.txt\n",
      "Processing: random/1997_691.txt\n",
      "Processing: random/1999_686.txt\n",
      "Processing: random/2003_153.txt\n",
      "Processing: random/2003_2262.txt\n",
      "Processing: random/1997_688.txt\n",
      "Processing: random/2001_1116.txt\n",
      "Processing: random/2004_1532.txt\n",
      "Processing: random/1996_43.txt\n",
      "Processing: random/2001_498.txt\n",
      "Processing: random/1996_493.txt\n",
      "Processing: random/2001_764.txt\n",
      "Processing: random/1998_471.txt\n",
      "Processing: random/1993_599.txt\n",
      "Processing: random/1997_770.txt\n",
      "Processing: random/1994_669.txt\n",
      "Processing: random/1995_792.txt\n",
      "Processing: random/2000_1310.txt\n",
      "Processing: random/1994_602.txt\n",
      "Processing: random/2001_459.txt\n",
      "Processing: random/1997_715.txt\n",
      "Processing: random/2001_1323.txt\n",
      "Processing: random/2004_94.txt\n",
      "Processing: random/2000_1028.txt\n",
      "Processing: random/2003_1692.txt\n",
      "Processing: random/1997_467.txt\n",
      "Processing: random/2004_2782.txt\n",
      "Processing: random/1998_1019.txt\n",
      "Processing: random/2000_1166.txt\n",
      "GLOBAL 4201.11048007 seconds ---\n"
     ]
    }
   ],
   "source": [
    "!python ner.py"
   ]
  },
  {
   "cell_type": "code",
   "execution_count": 1,
   "metadata": {},
   "outputs": [],
   "source": [
    "from os import listdir\n",
    "from os.path import isfile, join\n",
    "import xmltodict"
   ]
  },
  {
   "cell_type": "markdown",
   "metadata": {},
   "source": [
    "Plot the frequency of the recognized classes:\n",
    "    * fine-grained classification histogram (classes such as nam_fac_bridge, nam_liv_animal).\n",
    "    * coarse-grained classification histogram (classes such as nam_adj, nam_eve, nam_fac)."
   ]
  },
  {
   "cell_type": "code",
   "execution_count": 23,
   "metadata": {},
   "outputs": [],
   "source": [
    "import xml.etree.ElementTree as ET"
   ]
  },
  {
   "cell_type": "code",
   "execution_count": 63,
   "metadata": {},
   "outputs": [],
   "source": [
    "def load_xmls(directory_path):\n",
    "    files = [file for file in listdir(directory_path) if isfile(join(directory_path, file))]\n",
    "    entities = {}\n",
    "    for file in files:\n",
    "        root = ET.parse(f\"{directory_path}/{file}\").getroot()\n",
    "        for chunk in root:\n",
    "            for sentence in chunk:\n",
    "                ners = {}\n",
    "                for tok in sentence:\n",
    "                    if tok.tag == \"tok\":\n",
    "                        token = tok.findall(\"orth\")[0].text\n",
    "                        for ann in tok:\n",
    "                            if ann.tag == \"ann\" and ann.text != \"0\":\n",
    "                                if (ann.get('chan'), ann.text) in ners:\n",
    "                                    values = ners[(ann.get('chan'), ann.text)]\n",
    "                                    values.append(token)\n",
    "                                    ners[(ann.get('chan'), ann.text)] = values\n",
    "                                else:\n",
    "                                    ners[(ann.get('chan'), ann.text)] = [token]\n",
    "                for key, value in ners.items():\n",
    "                    k = (key[0], \" \".join(value))\n",
    "                    if k in entities:\n",
    "                        v = entities[k]\n",
    "                        v += 1\n",
    "                        entities[k] = v\n",
    "                    else:\n",
    "                        entities[k] = 1\n",
    "    return entities"
   ]
  },
  {
   "cell_type": "code",
   "execution_count": 64,
   "metadata": {},
   "outputs": [],
   "source": [
    "entities = load_xmls('./out')"
   ]
  },
  {
   "cell_type": "code",
   "execution_count": 79,
   "metadata": {},
   "outputs": [],
   "source": [
    "fine_grained = {}\n",
    "for key, value in entities.items():\n",
    "    if key[0] not in fine_grained:\n",
    "        fine_grained[key[0]] = value\n",
    "    else:\n",
    "        v_ = fine_grained[key[0]]\n",
    "        v_ += 1\n",
    "        fine_grained[key[0]] = v_"
   ]
  },
  {
   "cell_type": "code",
   "execution_count": 88,
   "metadata": {},
   "outputs": [
    {
     "data": {
      "image/png": "[encoded data removed]",
      "text/plain": [
       "<Figure size 1296x648 with 1 Axes>"
      ]
     },
     "metadata": {
      "needs_background": "light"
     },
     "output_type": "display_data"
    }
   ],
   "source": [
    "import numpy as np\n",
    "import matplotlib.pyplot as plt\n",
    "\n",
    "pos = np.arange(len(fine_grained.keys()))\n",
    "plt.figure(figsize=(18,9))\n",
    "\n",
    "plt.bar(fine_grained.keys(), fine_grained.values(), width, color='g')\n",
    "plt.xticks(pos, fine_grained.keys(), rotation='vertical')\n",
    "plt.show()"
   ]
  },
  {
   "cell_type": "code",
   "execution_count": 97,
   "metadata": {},
   "outputs": [],
   "source": [
    "coarse_grained = {}\n",
    "for key, value in entities.items():\n",
    "    new_key = (\"_\".join(key[0].split(\"_\")[:2]))\n",
    "    if new_key not in coarse_grained:\n",
    "        coarse_grained[new_key] = value\n",
    "    else:\n",
    "        v_ = coarse_grained[new_key]\n",
    "        v_ += 1\n",
    "        coarse_grained[new_key] = v_"
   ]
  },
  {
   "cell_type": "code",
   "execution_count": 99,
   "metadata": {},
   "outputs": [
    {
     "data": {
      "image/png": "[encoded data removed]",
      "text/plain": [
       "<Figure size 1296x648 with 1 Axes>"
      ]
     },
     "metadata": {
      "needs_background": "light"
     },
     "output_type": "display_data"
    }
   ],
   "source": [
    "pos = np.arange(len(coarse_grained.keys()))\n",
    "plt.figure(figsize=(18,9))\n",
    "\n",
    "plt.bar(coarse_grained.keys(), coarse_grained.values(), width, color='g')\n",
    "plt.xticks(pos, coarse_grained.keys(), rotation='vertical')\n",
    "plt.show()"
   ]
  },
  {
   "cell_type": "code",
   "execution_count": 106,
   "metadata": {},
   "outputs": [],
   "source": [
    "import operator\n",
    "sorted_x = sorted(entities.items(), key=operator.itemgetter(1), reverse=True)"
   ]
  },
  {
   "cell_type": "code",
   "execution_count": 107,
   "metadata": {},
   "outputs": [
    {
     "data": {
      "text/plain": [
       "[(('nam_pro_media_periodic', 'Dz . U .'), 823),\n",
       " (('nam_loc_gpe_country', 'Rzeczypospolitej Polskiej'), 308),\n",
       " (('nam_org_institution', 'Skarbu Państwa'), 137),\n",
       " (('nam_oth_currency', 'zł'), 126),\n",
       " (('nam_org_organization', 'Unii Europejskiej'), 71),\n",
       " (('nam_pro_media_periodic', 'Dz . Urz'), 67),\n",
       " (('nam_org_institution', 'Prezes Urzędu'), 64),\n",
       " (('nam_org_institution', 'Rada Ministrów'), 58),\n",
       " (('nam_org_organization', 'EFTA'), 45),\n",
       " (('nam_org_institution', 'Skarb Państwa'), 44),\n",
       " (('nam_org_company', 'Europejskiego Porozumienia o Wolnym Handlu'), 44),\n",
       " (('nam_org_institution', 'Prezesa Urzędu'), 37),\n",
       " (('nam_org_institution', 'Straży Granicznej'), 34),\n",
       " (('nam_org_institution', 'Służby Celnej'), 33),\n",
       " (('nam_org_institution', 'Minister Finansów'), 31),\n",
       " (('nam_org_institution', 'Funduszu Pracy'), 31),\n",
       " (('nam_org_group_team', 'Produktów Biobójczych'), 30),\n",
       " (('nam_org_institution', 'Komendanta Głównego Straży Granicznej'), 29),\n",
       " (('nam_org_organization', 'Straży Granicznej'), 28),\n",
       " (('nam_org_organization', 'WE'), 27),\n",
       " (('nam_org_institution', 'Minister Zdrowia i Opieki Społecznej'), 25),\n",
       " (('nam_org_institution', 'Komendant Główny Straży Granicznej'), 25),\n",
       " (('nam_org_institution', 'Minister Spraw Wewnętrznych i Administracji'), 24),\n",
       " (('nam_org_institution', 'Prezes Rady Ministrów'), 23),\n",
       " (('nam_oth_currency', 'euro'), 23),\n",
       " (('nam_org_institution', 'Parlamentu Europejskiego'), 23),\n",
       " (('nam_org_institution', 'Biuletynu Informacji Publicznej'), 23),\n",
       " (('nam_org_institution', 'Minister Sprawiedliwości'), 22),\n",
       " (('nam_org_institution', 'Ministra Skarbu Państwa'), 22),\n",
       " (('nam_org_institution', 'Prezesowi Urzędu'), 20),\n",
       " (('nam_org_institution', 'Prezes Głównego Urzędu Ceł'), 19),\n",
       " (('nam_pro_title_document', 'Kodeksu karnego skarbowego'), 17),\n",
       " (('nam_loc_gpe_city', 'Rejestru'), 17),\n",
       " (('nam_org_institution', 'Inspekcji Handlowej'), 17),\n",
       " (('nam_org_institution', 'Agencji'), 16),\n",
       " (('nam_liv_person', 'Straży Granicznej'), 16),\n",
       " (('nam_org_institution', 'Prezes Krajowego Zarządu'), 16),\n",
       " (('nam_org_institution', 'Minister Obrony Narodowej'), 15),\n",
       " (('nam_org_institution', 'MARSZAŁEK SEJMU'), 15),\n",
       " (('nam_org_institution', 'Inspekcji Sanitarnej'), 15),\n",
       " (('nam_fac_goe', 'Straży Granicznej'), 15),\n",
       " (('nam_org_institution', 'Minister Skarbu Państwa'), 15),\n",
       " (('nam_liv_person', 'Fryderyka Chopina'), 15),\n",
       " (('nam_org_institution', 'Krajowym Rejestrze Sądowym'), 14),\n",
       " (('nam_pro_title_document', 'Kodeksu karnego'), 14),\n",
       " (('nam_liv_person', 'Transportu Drogowego'), 14),\n",
       " (('nam_org_institution', 'Fundusz Pracy'), 14),\n",
       " (('nam_org_institution', 'Komisję Europejską'), 14),\n",
       " (('nam_org_organization', 'UE'), 14),\n",
       " (('nam_org_company', 'Europejskim Obszarze Gospodarczym'), 14)]"
      ]
     },
     "execution_count": 107,
     "metadata": {},
     "output_type": "execute_result"
    }
   ],
   "source": [
    "sorted_x[:50]"
   ]
  },
  {
   "cell_type": "code",
   "execution_count": 109,
   "metadata": {},
   "outputs": [],
   "source": [
    "coarsed_grained_keys = coarse_grained.keys()"
   ]
  },
  {
   "cell_type": "code",
   "execution_count": 113,
   "metadata": {},
   "outputs": [
    {
     "data": {
      "text/plain": [
       "dict_keys(['nam_pro', 'nam_loc', 'nam_eve', 'nam_org', 'nam_adj', 'nam_oth', 'nam_liv', 'nam_fac', 'nam_num'])"
      ]
     },
     "execution_count": 113,
     "metadata": {},
     "output_type": "execute_result"
    }
   ],
   "source": [
    "coarsed_grained_keys"
   ]
  },
  {
   "cell_type": "code",
   "execution_count": 117,
   "metadata": {},
   "outputs": [
    {
     "name": "stdout",
     "output_type": "stream",
     "text": [
      "nam_pro\n",
      "Dz . U . : 823\n",
      "Dz . Urz : 67\n",
      "Kodeksu karnego skarbowego : 17\n",
      "Kodeksu karnego : 14\n",
      "Prawo farmaceutyczne : 12\n",
      "Kodeksu postępowania cywilnego : 11\n",
      "Kodeksu postępowania administracyjnego : 11\n",
      "ustawie z dnia 26 lipca 1991 r . o podatku dochodowym od osób fizycznych : 10\n",
      "Kodeksu cywilnego : 10\n",
      "Ordynacja podatkowa : 10\n",
      "\n",
      "nam_loc\n",
      "Rzeczypospolitej Polskiej : 308\n",
      "Rejestru : 17\n",
      "Rzeczpospolitą Polską : 13\n",
      "Rzecząpospolitą Polską : 5\n",
      "Rzeczpospolita Polska : 5\n",
      "Polski : 4\n",
      "Polską : 4\n",
      "Nowym Jorku : 4\n",
      "Warszawy : 4\n",
      "Krakowie : 4\n",
      "\n",
      "nam_eve\n",
      "Straży Granicznej : 4\n",
      "Ordynacji podatkowej : 3\n",
      "II wojny światowej : 2\n",
      "Monitorze Sądowym : 2\n",
      "Ochotniczych Hufców Pracy : 2\n",
      "Dobrej Praktyki Dystrybucyjnej : 2\n",
      "Krajowego Rejestru Sądowego : 1\n",
      "Programu na lata 2004 - 2011 : 1\n",
      "Dobrej Praktyki Wytwarzania : 1\n",
      "Mennicy Państwowej : 1\n",
      "\n",
      "nam_org\n",
      "Skarbu Państwa : 137\n",
      "Unii Europejskiej : 71\n",
      "Prezes Urzędu : 64\n",
      "Rada Ministrów : 58\n",
      "EFTA : 45\n",
      "Skarb Państwa : 44\n",
      "Europejskiego Porozumienia o Wolnym Handlu : 44\n",
      "Prezesa Urzędu : 37\n",
      "Straży Granicznej : 34\n",
      "Służby Celnej : 33\n",
      "\n",
      "nam_adj\n",
      "polskiej : 8\n",
      "polskiego : 7\n",
      "polski : 6\n",
      "polscy : 5\n",
      "unijnej : 5\n",
      "europejskich : 4\n",
      "polskim : 3\n",
      "europejskiej : 3\n",
      "polskie : 2\n",
      "polską : 2\n",
      "\n",
      "nam_oth\n",
      "zł : 126\n",
      "euro : 23\n",
      "złotych : 9\n",
      "ECU : 8\n",
      "EURO : 2\n",
      "PKD : 2\n",
      "Minister Edukacji Narodowej : 2\n",
      "Ă - - - - - Ĺ - - - - - - - - - - - - - - - - - - - Ĺ - - - - - - - - - - - - - - - - - - - - - - - - : 2\n",
      "Minister Spraw Zagranicznych : 1\n",
      "NIP : 1\n",
      "\n",
      "nam_liv\n",
      "Straży Granicznej : 16\n",
      "Fryderyka Chopina : 15\n",
      "Transportu Drogowego : 14\n",
      "S T A W A : 11\n",
      "Generalny Inspektor : 11\n",
      "Generalnego Inspektora : 8\n",
      "Kasy Chorych : 6\n",
      "Rzecznika : 6\n",
      "Główny Inspektor : 6\n",
      "Ewa Kopacz : 5\n",
      "\n",
      "nam_fac\n",
      "Straży Granicznej : 15\n",
      "Straż Graniczna : 8\n",
      "Krajowego Rejestru Sądowego : 7\n",
      "Zatoki Gdańskiej : 4\n",
      "REGON : 3\n",
      "Kas Chorych : 2\n",
      "Solidarności : 1\n",
      "Krajowym Rejestrze Sądowym : 1\n",
      "Minister Finansów : 1\n",
      "Straż Pożarna : 1\n",
      "\n",
      "nam_num\n",
      "112 : 1\n",
      "\n"
     ]
    }
   ],
   "source": [
    "for k in coarsed_grained_keys:\n",
    "    v1 = list(filter(lambda x: x[0][0].startswith(k), sorted_x))\n",
    "    print(k)\n",
    "    for v_ in v1[:10]:\n",
    "        print(f\"{v_[0][1]} : {v_[1]}\")\n",
    "    print()"
   ]
  },
  {
   "cell_type": "code",
   "execution_count": null,
   "metadata": {},
   "outputs": [],
   "source": []
  }
 ],
 "metadata": {
  "kernelspec": {
   "display_name": "Python 3",
   "language": "python",
   "name": "python3"
  },
  "language_info": {
   "codemirror_mode": {
    "name": "ipython",
    "version": 3
   },
   "file_extension": ".py",
   "mimetype": "text/x-python",
   "name": "python",
   "nbconvert_exporter": "python",
   "pygments_lexer": "ipython3",
   "version": "3.6.7"
  }
 },
 "nbformat": 4,
 "nbformat_minor": 2
}
